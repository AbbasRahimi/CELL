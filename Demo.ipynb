{
 "cells": [
  {
   "cell_type": "code",
   "execution_count": 80,
   "metadata": {},
   "outputs": [],
   "source": [
    "import warnings\n",
    "warnings.filterwarnings('ignore')\n",
    "\n",
    "import numpy as np\n",
    "import scipy.sparse as sp\n",
    "from scipy.sparse import load_npz\n",
    "\n",
    "import torch\n",
    "\n",
    "from cell.utils import train_val_test_split, link_prediction_performance\n",
    "from cell.cell import Cell, EdgeOverlapCriterion, LinkPredictionCriterion\n",
    "from cell.graph_statistics import compute_graph_statistics"
   ]
  },
  {
   "cell_type": "markdown",
   "metadata": {},
   "source": [
    "## Load Graph"
   ]
  },
  {
   "cell_type": "code",
   "execution_count": 70,
   "metadata": {},
   "outputs": [],
   "source": [
    "_A_obs = load_npz(f'./data/CORA-ML.npz')\n",
    "\n",
    "val_share = 0.1\n",
    "test_share = 0.05\n",
    "seed = 10\n",
    "\n",
    "train_graph, val_ones, val_zeros, test_ones, test_zeros = train_val_test_split(_A_obs,\n",
    "                                                                               val_share,\n",
    "                                                                               test_share,\n",
    "                                                                               seed)"
   ]
  },
  {
   "cell_type": "markdown",
   "metadata": {},
   "source": [
    "## Edge Overlap Criterion"
   ]
  },
  {
   "cell_type": "code",
   "execution_count": 71,
   "metadata": {},
   "outputs": [],
   "source": [
    "# initialize model with EO-criterion\n",
    "model = Cell(A=train_graph,\n",
    "             H=9,\n",
    "             callbacks=[EdgeOverlapCriterion(invoke_every=10, EO_limit=.5)])"
   ]
  },
  {
   "cell_type": "code",
   "execution_count": 72,
   "metadata": {},
   "outputs": [
    {
     "name": "stdout",
     "output_type": "stream",
     "text": [
      "Step:  10/200 Loss: 5.99155 Edge-Overlap: 0.035 Total-Time: 5\n",
      "Step:  20/200 Loss: 4.07789 Edge-Overlap: 0.280 Total-Time: 10\n",
      "Step:  30/200 Loss: 3.32820 Edge-Overlap: 0.448 Total-Time: 16\n",
      "Step:  40/200 Loss: 2.97465 Edge-Overlap: 0.547 Total-Time: 21\n"
     ]
    }
   ],
   "source": [
    "# train model \n",
    "model.train(steps=200,\n",
    "            optimizer_fn=torch.optim.Adam,\n",
    "            optimizer_args={'lr': 0.1,\n",
    "                            'weight_decay': 1e-7})"
   ]
  },
  {
   "cell_type": "code",
   "execution_count": 77,
   "metadata": {},
   "outputs": [],
   "source": [
    "generated_graph = model.sample_graph()"
   ]
  },
  {
   "cell_type": "code",
   "execution_count": 78,
   "metadata": {
    "scrolled": false
   },
   "outputs": [
    {
     "data": {
      "text/plain": [
       "{'d_max': 161.0,\n",
       " 'd_min': 1.0,\n",
       " 'd': 4.8284697508896794,\n",
       " 'LCC': 2804,\n",
       " 'wedge_count': 73803.0,\n",
       " 'claw_count': 1145656.0,\n",
       " 'triangle_count': 1374,\n",
       " 'square_count': 6530.0,\n",
       " 'power_law_exp': 1.8126554334133969,\n",
       " 'gini': 0.4426437755992749,\n",
       " 'rel_edge_distr_entropy': 0.9526665796124112,\n",
       " 'assortativity': -0.08150885625778884,\n",
       " 'clustering_coefficient': 0.003597938648250435,\n",
       " 'cpl': 5.221674895650144}"
      ]
     },
     "execution_count": 78,
     "metadata": {},
     "output_type": "execute_result"
    }
   ],
   "source": [
    "compute_graph_statistics(generated_graph)"
   ]
  },
  {
   "cell_type": "code",
   "execution_count": 79,
   "metadata": {},
   "outputs": [
    {
     "data": {
      "text/plain": [
       "{'d_max': 209.0,\n",
       " 'd_min': 1.0,\n",
       " 'd': 4.8284697508896794,\n",
       " 'LCC': 2810,\n",
       " 'wedge_count': 95802.0,\n",
       " 'claw_count': 2301166.0,\n",
       " 'triangle_count': 2867,\n",
       " 'square_count': 14969.0,\n",
       " 'power_law_exp': 1.8585544293441962,\n",
       " 'gini': 0.4855507830860135,\n",
       " 'rel_edge_distr_entropy': 0.9408725499709523,\n",
       " 'assortativity': -0.07557187056300232,\n",
       " 'clustering_coefficient': 0.0037376703810155375,\n",
       " 'cpl': 5.672324214617732}"
      ]
     },
     "execution_count": 79,
     "metadata": {},
     "output_type": "execute_result"
    }
   ],
   "source": [
    "compute_graph_statistics(train_graph)"
   ]
  },
  {
   "cell_type": "code",
   "execution_count": null,
   "metadata": {},
   "outputs": [],
   "source": []
  },
  {
   "cell_type": "markdown",
   "metadata": {},
   "source": [
    "## Validation Criterion"
   ]
  },
  {
   "cell_type": "code",
   "execution_count": 81,
   "metadata": {},
   "outputs": [],
   "source": [
    "# initialize model with LP-criterion\n",
    "model = Cell(A=train_graph,\n",
    "             H=9,\n",
    "             callbacks=[LinkPredictionCriterion(invoke_every=2,\n",
    "                                                val_ones=val_ones,\n",
    "                                                val_zeros=val_zeros,\n",
    "                                                max_patience=3)])"
   ]
  },
  {
   "cell_type": "code",
   "execution_count": 82,
   "metadata": {},
   "outputs": [
    {
     "name": "stdout",
     "output_type": "stream",
     "text": [
      "Step:   2/200 Loss: 7.92690 ROC-AUC Score: 0.619 Average Precision: 0.613 Total-Time: 0\n",
      "Step:   4/200 Loss: 7.72117 ROC-AUC Score: 0.673 Average Precision: 0.683 Total-Time: 1\n",
      "Step:   6/200 Loss: 7.29555 ROC-AUC Score: 0.710 Average Precision: 0.727 Total-Time: 2\n",
      "Step:   8/200 Loss: 6.68050 ROC-AUC Score: 0.744 Average Precision: 0.763 Total-Time: 3\n",
      "Step:  10/200 Loss: 6.00421 ROC-AUC Score: 0.789 Average Precision: 0.807 Total-Time: 4\n",
      "Step:  12/200 Loss: 5.40855 ROC-AUC Score: 0.834 Average Precision: 0.850 Total-Time: 5\n",
      "Step:  14/200 Loss: 4.97076 ROC-AUC Score: 0.865 Average Precision: 0.879 Total-Time: 6\n",
      "Step:  16/200 Loss: 4.64708 ROC-AUC Score: 0.880 Average Precision: 0.895 Total-Time: 7\n",
      "Step:  18/200 Loss: 4.36183 ROC-AUC Score: 0.888 Average Precision: 0.903 Total-Time: 8\n",
      "Step:  20/200 Loss: 4.11109 ROC-AUC Score: 0.895 Average Precision: 0.910 Total-Time: 9\n",
      "Step:  22/200 Loss: 3.91517 ROC-AUC Score: 0.903 Average Precision: 0.916 Total-Time: 10\n",
      "Step:  24/200 Loss: 3.74309 ROC-AUC Score: 0.911 Average Precision: 0.921 Total-Time: 12\n",
      "Step:  26/200 Loss: 3.59405 ROC-AUC Score: 0.916 Average Precision: 0.925 Total-Time: 12\n",
      "Step:  28/200 Loss: 3.46880 ROC-AUC Score: 0.920 Average Precision: 0.928 Total-Time: 13\n",
      "Step:  30/200 Loss: 3.36059 ROC-AUC Score: 0.923 Average Precision: 0.930 Total-Time: 14\n",
      "Step:  32/200 Loss: 3.26792 ROC-AUC Score: 0.925 Average Precision: 0.931 Total-Time: 15\n",
      "Step:  34/200 Loss: 3.18793 ROC-AUC Score: 0.927 Average Precision: 0.934 Total-Time: 16\n",
      "Step:  36/200 Loss: 3.11838 ROC-AUC Score: 0.929 Average Precision: 0.936 Total-Time: 17\n",
      "Step:  38/200 Loss: 3.05818 ROC-AUC Score: 0.930 Average Precision: 0.938 Total-Time: 19\n",
      "Step:  40/200 Loss: 3.00465 ROC-AUC Score: 0.931 Average Precision: 0.938 Total-Time: 20\n",
      "Step:  42/200 Loss: 2.95757 ROC-AUC Score: 0.931 Average Precision: 0.938 Total-Time: 21\n",
      "Step:  44/200 Loss: 2.91530 ROC-AUC Score: 0.932 Average Precision: 0.939 Total-Time: 23\n",
      "Step:  46/200 Loss: 2.87800 ROC-AUC Score: 0.932 Average Precision: 0.939 Total-Time: 24\n",
      "Step:  48/200 Loss: 2.84430 ROC-AUC Score: 0.932 Average Precision: 0.939 Total-Time: 25\n",
      "Step:  50/200 Loss: 2.81406 ROC-AUC Score: 0.933 Average Precision: 0.939 Total-Time: 27\n",
      "Step:  52/200 Loss: 2.78663 ROC-AUC Score: 0.933 Average Precision: 0.939 Total-Time: 28\n",
      "Step:  54/200 Loss: 2.76192 ROC-AUC Score: 0.933 Average Precision: 0.939 Total-Time: 30\n",
      "Step:  56/200 Loss: 2.73896 ROC-AUC Score: 0.933 Average Precision: 0.939 Total-Time: 32\n",
      "Step:  58/200 Loss: 2.71807 ROC-AUC Score: 0.933 Average Precision: 0.939 Total-Time: 33\n"
     ]
    }
   ],
   "source": [
    "# train model \n",
    "model.train(steps=200,\n",
    "            optimizer_fn=torch.optim.Adam,\n",
    "            optimizer_args={'lr': 0.1,\n",
    "                            'weight_decay': 1e-6})"
   ]
  },
  {
   "cell_type": "code",
   "execution_count": 83,
   "metadata": {},
   "outputs": [
    {
     "data": {
      "text/plain": [
       "(0.9371172291631334, 0.9404623466909817)"
      ]
     },
     "execution_count": 83,
     "metadata": {},
     "output_type": "execute_result"
    }
   ],
   "source": [
    "link_prediction_performance(scores_matrix=model._scores_matrix, val_ones=test_ones, val_zeros=test_zeros)"
   ]
  }
 ],
 "metadata": {
  "kernelspec": {
   "display_name": "Python [conda env:netgan]",
   "language": "python",
   "name": "conda-env-netgan-py"
  },
  "language_info": {
   "codemirror_mode": {
    "name": "ipython",
    "version": 3
   },
   "file_extension": ".py",
   "mimetype": "text/x-python",
   "name": "python",
   "nbconvert_exporter": "python",
   "pygments_lexer": "ipython3",
   "version": "3.6.9"
  }
 },
 "nbformat": 4,
 "nbformat_minor": 2
}
