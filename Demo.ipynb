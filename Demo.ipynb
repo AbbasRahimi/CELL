{
 "cells": [
  {
   "cell_type": "code",
   "execution_count": 1,
   "metadata": {},
   "outputs": [],
   "source": [
    "import warnings\n",
    "warnings.filterwarnings('ignore')\n",
    "\n",
    "import pickle\n",
    "import numpy as np\n",
    "import scipy.sparse as sp\n",
    "from scipy.sparse import load_npz\n",
    "\n",
    "import torch\n",
    "\n",
    "from cell.utils import link_prediction_performance\n",
    "from cell.cell import Cell, EdgeOverlapCriterion, LinkPredictionCriterion\n",
    "from cell.graph_statistics import compute_graph_statistics"
   ]
  },
  {
   "cell_type": "markdown",
   "metadata": {},
   "source": [
    "# Load graph and validation-/ test edges (same split as in paper)"
   ]
  },
  {
   "cell_type": "code",
   "execution_count": 2,
   "metadata": {},
   "outputs": [],
   "source": [
    "train_graph = load_npz('./data/CORA-ML_train.npz')\n",
    "with open('./data/link_prediction.p', 'rb') as handle:\n",
    "    val_ones, val_zeros, test_ones, test_zeros = pickle.load(handle)"
   ]
  },
  {
   "cell_type": "markdown",
   "metadata": {},
   "source": [
    "## Edge overlap criterion"
   ]
  },
  {
   "cell_type": "code",
   "execution_count": 3,
   "metadata": {},
   "outputs": [],
   "source": [
    "# initialize model with EO-criterion\n",
    "model = Cell(A=train_graph,\n",
    "             H=9,\n",
    "             callbacks=[EdgeOverlapCriterion(invoke_every=10, edge_overlap_limit=.5)])"
   ]
  },
  {
   "cell_type": "code",
   "execution_count": 4,
   "metadata": {},
   "outputs": [
    {
     "name": "stdout",
     "output_type": "stream",
     "text": [
      "Step:  10/200 Loss: 5.98659 Edge-Overlap: 0.042 Total-Time: 3\n",
      "Step:  20/200 Loss: 4.05340 Edge-Overlap: 0.280 Total-Time: 7\n",
      "Step:  30/200 Loss: 3.29106 Edge-Overlap: 0.451 Total-Time: 10\n",
      "Step:  40/200 Loss: 2.94477 Edge-Overlap: 0.552 Total-Time: 14\n"
     ]
    }
   ],
   "source": [
    "# train model \n",
    "model.train(steps=200,\n",
    "            optimizer_fn=torch.optim.Adam,\n",
    "            optimizer_args={'lr': 0.1,\n",
    "                            'weight_decay': 1e-7})"
   ]
  },
  {
   "cell_type": "code",
   "execution_count": 5,
   "metadata": {},
   "outputs": [],
   "source": [
    "generated_graph = model.sample_graph()"
   ]
  },
  {
   "cell_type": "code",
   "execution_count": 6,
   "metadata": {
    "scrolled": false
   },
   "outputs": [
    {
     "data": {
      "text/plain": [
       "{'d_max': 199.0,\n",
       " 'd_min': 1.0,\n",
       " 'd': 4.8277580071174375,\n",
       " 'LCC': 2802,\n",
       " 'wedge_count': 81516.0,\n",
       " 'claw_count': 1781672.0,\n",
       " 'triangle_count': 1428,\n",
       " 'square_count': 6923.0,\n",
       " 'power_law_exp': 1.8244785774294228,\n",
       " 'gini': 0.4533693454905843,\n",
       " 'rel_edge_distr_entropy': 0.9498521203506017,\n",
       " 'assortativity': -0.07215054895022903,\n",
       " 'clustering_coefficient': 0.0024044829800322393,\n",
       " 'cpl': 5.288447214149108}"
      ]
     },
     "execution_count": 6,
     "metadata": {},
     "output_type": "execute_result"
    }
   ],
   "source": [
    "compute_graph_statistics(generated_graph)"
   ]
  },
  {
   "cell_type": "code",
   "execution_count": 7,
   "metadata": {},
   "outputs": [
    {
     "data": {
      "text/plain": [
       "{'d_max': 238.0,\n",
       " 'd_min': 1.0,\n",
       " 'd': 4.8277580071174375,\n",
       " 'LCC': 2810,\n",
       " 'wedge_count': 101747.0,\n",
       " 'claw_count': 3033514.0,\n",
       " 'triangle_count': 2802,\n",
       " 'square_count': 14268.0,\n",
       " 'power_law_exp': 1.8550648593086239,\n",
       " 'gini': 0.4825742921255409,\n",
       " 'rel_edge_distr_entropy': 0.9406652031225717,\n",
       " 'assortativity': -0.07626405450439543,\n",
       " 'clustering_coefficient': 0.002771043746625201,\n",
       " 'cpl': 5.630006245811316}"
      ]
     },
     "execution_count": 7,
     "metadata": {},
     "output_type": "execute_result"
    }
   ],
   "source": [
    "compute_graph_statistics(train_graph)"
   ]
  },
  {
   "cell_type": "markdown",
   "metadata": {},
   "source": [
    "## Validation criterion"
   ]
  },
  {
   "cell_type": "code",
   "execution_count": 8,
   "metadata": {},
   "outputs": [],
   "source": [
    "# initialize model with LP-criterion\n",
    "model = Cell(A=train_graph,\n",
    "             H=9,\n",
    "             callbacks=[LinkPredictionCriterion(invoke_every=2,\n",
    "                                                val_ones=val_ones,\n",
    "                                                val_zeros=val_zeros,\n",
    "                                                max_patience=3)])"
   ]
  },
  {
   "cell_type": "code",
   "execution_count": 9,
   "metadata": {},
   "outputs": [
    {
     "name": "stdout",
     "output_type": "stream",
     "text": [
      "Step:   2/200 Loss: 7.92513 ROC-AUC Score: 0.604 Average Precision: 0.618 Total-Time: 0\n",
      "Step:   4/200 Loss: 7.71120 ROC-AUC Score: 0.682 Average Precision: 0.706 Total-Time: 1\n",
      "Step:   6/200 Loss: 7.26823 ROC-AUC Score: 0.728 Average Precision: 0.751 Total-Time: 1\n",
      "Step:   8/200 Loss: 6.62998 ROC-AUC Score: 0.765 Average Precision: 0.789 Total-Time: 2\n",
      "Step:  10/200 Loss: 5.93017 ROC-AUC Score: 0.804 Average Precision: 0.829 Total-Time: 2\n",
      "Step:  12/200 Loss: 5.32614 ROC-AUC Score: 0.843 Average Precision: 0.864 Total-Time: 3\n",
      "Step:  14/200 Loss: 4.88291 ROC-AUC Score: 0.873 Average Precision: 0.888 Total-Time: 3\n",
      "Step:  16/200 Loss: 4.55538 ROC-AUC Score: 0.888 Average Precision: 0.901 Total-Time: 4\n",
      "Step:  18/200 Loss: 4.26762 ROC-AUC Score: 0.897 Average Precision: 0.909 Total-Time: 4\n",
      "Step:  20/200 Loss: 4.02134 ROC-AUC Score: 0.904 Average Precision: 0.914 Total-Time: 5\n",
      "Step:  22/200 Loss: 3.83309 ROC-AUC Score: 0.912 Average Precision: 0.921 Total-Time: 5\n",
      "Step:  24/200 Loss: 3.66701 ROC-AUC Score: 0.919 Average Precision: 0.927 Total-Time: 6\n",
      "Step:  26/200 Loss: 3.52383 ROC-AUC Score: 0.924 Average Precision: 0.932 Total-Time: 7\n",
      "Step:  28/200 Loss: 3.40356 ROC-AUC Score: 0.927 Average Precision: 0.935 Total-Time: 7\n",
      "Step:  30/200 Loss: 3.30181 ROC-AUC Score: 0.930 Average Precision: 0.937 Total-Time: 8\n",
      "Step:  32/200 Loss: 3.21400 ROC-AUC Score: 0.933 Average Precision: 0.939 Total-Time: 8\n",
      "Step:  34/200 Loss: 3.14081 ROC-AUC Score: 0.935 Average Precision: 0.940 Total-Time: 9\n",
      "Step:  36/200 Loss: 3.07424 ROC-AUC Score: 0.936 Average Precision: 0.942 Total-Time: 9\n",
      "Step:  38/200 Loss: 3.01725 ROC-AUC Score: 0.938 Average Precision: 0.943 Total-Time: 10\n",
      "Step:  40/200 Loss: 2.96709 ROC-AUC Score: 0.938 Average Precision: 0.944 Total-Time: 10\n",
      "Step:  42/200 Loss: 2.92268 ROC-AUC Score: 0.938 Average Precision: 0.943 Total-Time: 11\n",
      "Step:  44/200 Loss: 2.88361 ROC-AUC Score: 0.938 Average Precision: 0.943 Total-Time: 11\n",
      "Step:  46/200 Loss: 2.84795 ROC-AUC Score: 0.938 Average Precision: 0.942 Total-Time: 12\n",
      "Step:  48/200 Loss: 2.81664 ROC-AUC Score: 0.938 Average Precision: 0.943 Total-Time: 12\n"
     ]
    }
   ],
   "source": [
    "# train model \n",
    "model.train(steps=200,\n",
    "            optimizer_fn=torch.optim.Adam,\n",
    "            optimizer_args={'lr': 0.1,\n",
    "                            'weight_decay': 1e-6})"
   ]
  },
  {
   "cell_type": "markdown",
   "metadata": {},
   "source": [
    "#### Link prediction performance for ROC-AUC score and average precision"
   ]
  },
  {
   "cell_type": "code",
   "execution_count": 10,
   "metadata": {},
   "outputs": [
    {
     "data": {
      "text/plain": [
       "(0.94483125, 0.9482979127234584)"
      ]
     },
     "execution_count": 10,
     "metadata": {},
     "output_type": "execute_result"
    }
   ],
   "source": [
    "link_prediction_performance(scores_matrix=model._scores_matrix, val_ones=test_ones, val_zeros=test_zeros)"
   ]
  }
 ],
 "metadata": {
  "kernelspec": {
   "display_name": "Python [conda env:torch]",
   "language": "python",
   "name": "conda-env-torch-py"
  },
  "language_info": {
   "codemirror_mode": {
    "name": "ipython",
    "version": 3
   },
   "file_extension": ".py",
   "mimetype": "text/x-python",
   "name": "python",
   "nbconvert_exporter": "python",
   "pygments_lexer": "ipython3",
   "version": "3.6.9"
  }
 },
 "nbformat": 4,
 "nbformat_minor": 2
}
