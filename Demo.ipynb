{
 "cells": [
  {
   "cell_type": "code",
   "execution_count": 1,
   "metadata": {},
   "outputs": [],
   "source": [
    "import warnings\n",
    "warnings.filterwarnings('ignore')\n",
    "\n",
    "import numpy as np\n",
    "import scipy.sparse as sp\n",
    "from scipy.sparse import load_npz\n",
    "\n",
    "import torch\n",
    "\n",
    "from cell.utils import train_val_test_split, link_prediction_performance\n",
    "from cell.cell import Cell, EdgeOverlapCriterion, LinkPredictionCriterion\n",
    "from cell.graph_statistics import compute_graph_statistics"
   ]
  },
  {
   "cell_type": "markdown",
   "metadata": {},
   "source": [
    "## Load Graph"
   ]
  },
  {
   "cell_type": "code",
   "execution_count": 2,
   "metadata": {},
   "outputs": [],
   "source": [
    "_A_obs = load_npz(f'./data/CORA-ML.npz')\n",
    "\n",
    "val_share = 0.1\n",
    "test_share = 0.05\n",
    "seed = 10\n",
    "\n",
    "train_graph, val_ones, val_zeros, test_ones, test_zeros = train_val_test_split(_A_obs,\n",
    "                                                                               val_share,\n",
    "                                                                               test_share,\n",
    "                                                                               seed)"
   ]
  },
  {
   "cell_type": "markdown",
   "metadata": {},
   "source": [
    "## Edge Overlap Criterion"
   ]
  },
  {
   "cell_type": "code",
   "execution_count": 3,
   "metadata": {},
   "outputs": [],
   "source": [
    "# initialize model with EO-criterion\n",
    "model = Cell(A=train_graph,\n",
    "             H=9,\n",
    "             callbacks=[EdgeOverlapCriterion(invoke_every=10, edge_overlap_limit=.5)])"
   ]
  },
  {
   "cell_type": "code",
   "execution_count": 4,
   "metadata": {},
   "outputs": [
    {
     "name": "stdout",
     "output_type": "stream",
     "text": [
      "Step:  10/200 Loss: 5.96087 Edge-Overlap: 0.033 Total-Time: 4\n",
      "Step:  20/200 Loss: 4.05810 Edge-Overlap: 0.284 Total-Time: 9\n",
      "Step:  30/200 Loss: 3.31627 Edge-Overlap: 0.440 Total-Time: 13\n",
      "Step:  40/200 Loss: 2.97212 Edge-Overlap: 0.548 Total-Time: 18\n"
     ]
    }
   ],
   "source": [
    "# train model \n",
    "model.train(steps=200,\n",
    "            optimizer_fn=torch.optim.Adam,\n",
    "            optimizer_args={'lr': 0.1,\n",
    "                            'weight_decay': 1e-7})"
   ]
  },
  {
   "cell_type": "code",
   "execution_count": 5,
   "metadata": {},
   "outputs": [],
   "source": [
    "generated_graph = model.sample_graph()"
   ]
  },
  {
   "cell_type": "code",
   "execution_count": 6,
   "metadata": {
    "scrolled": false
   },
   "outputs": [
    {
     "data": {
      "text/plain": [
       "{'d_max': 171.0,\n",
       " 'd_min': 1.0,\n",
       " 'd': 4.8284697508896794,\n",
       " 'LCC': 2808,\n",
       " 'wedge_count': 77574.0,\n",
       " 'claw_count': 1355036.0,\n",
       " 'triangle_count': 1468,\n",
       " 'square_count': 7467.0,\n",
       " 'power_law_exp': 1.8207420386565856,\n",
       " 'gini': 0.4509338489558854,\n",
       " 'rel_edge_distr_entropy': 0.9506692508260353,\n",
       " 'assortativity': -0.07828604309967814,\n",
       " 'clustering_coefficient': 0.0032500981523738114,\n",
       " 'cpl': 5.229567709346975}"
      ]
     },
     "execution_count": 6,
     "metadata": {},
     "output_type": "execute_result"
    }
   ],
   "source": [
    "compute_graph_statistics(generated_graph)"
   ]
  },
  {
   "cell_type": "code",
   "execution_count": 7,
   "metadata": {},
   "outputs": [
    {
     "data": {
      "text/plain": [
       "{'d_max': 209.0,\n",
       " 'd_min': 1.0,\n",
       " 'd': 4.8284697508896794,\n",
       " 'LCC': 2810,\n",
       " 'wedge_count': 95802.0,\n",
       " 'claw_count': 2301166.0,\n",
       " 'triangle_count': 2867,\n",
       " 'square_count': 14969.0,\n",
       " 'power_law_exp': 1.8585544293441962,\n",
       " 'gini': 0.4855507830860135,\n",
       " 'rel_edge_distr_entropy': 0.9408725499709523,\n",
       " 'assortativity': -0.07557187056300232,\n",
       " 'clustering_coefficient': 0.0037376703810155375,\n",
       " 'cpl': 5.672324214617732}"
      ]
     },
     "execution_count": 7,
     "metadata": {},
     "output_type": "execute_result"
    }
   ],
   "source": [
    "compute_graph_statistics(train_graph)"
   ]
  },
  {
   "cell_type": "markdown",
   "metadata": {},
   "source": [
    "## Validation Criterion"
   ]
  },
  {
   "cell_type": "code",
   "execution_count": 8,
   "metadata": {},
   "outputs": [],
   "source": [
    "# initialize model with LP-criterion\n",
    "model = Cell(A=train_graph,\n",
    "             H=9,\n",
    "             callbacks=[LinkPredictionCriterion(invoke_every=2,\n",
    "                                                val_ones=val_ones,\n",
    "                                                val_zeros=val_zeros,\n",
    "                                                max_patience=3)])"
   ]
  },
  {
   "cell_type": "code",
   "execution_count": 9,
   "metadata": {},
   "outputs": [
    {
     "name": "stdout",
     "output_type": "stream",
     "text": [
      "Step:   2/200 Loss: 7.92695 ROC-AUC Score: 0.607 Average Precision: 0.606 Total-Time: 0\n",
      "Step:   4/200 Loss: 7.72123 ROC-AUC Score: 0.683 Average Precision: 0.686 Total-Time: 1\n",
      "Step:   6/200 Loss: 7.29660 ROC-AUC Score: 0.727 Average Precision: 0.733 Total-Time: 2\n",
      "Step:   8/200 Loss: 6.68226 ROC-AUC Score: 0.764 Average Precision: 0.773 Total-Time: 2\n",
      "Step:  10/200 Loss: 6.00534 ROC-AUC Score: 0.803 Average Precision: 0.815 Total-Time: 3\n",
      "Step:  12/200 Loss: 5.41419 ROC-AUC Score: 0.841 Average Precision: 0.852 Total-Time: 4\n",
      "Step:  14/200 Loss: 4.97864 ROC-AUC Score: 0.868 Average Precision: 0.878 Total-Time: 4\n",
      "Step:  16/200 Loss: 4.65078 ROC-AUC Score: 0.881 Average Precision: 0.891 Total-Time: 5\n",
      "Step:  18/200 Loss: 4.35771 ROC-AUC Score: 0.887 Average Precision: 0.898 Total-Time: 6\n",
      "Step:  20/200 Loss: 4.10243 ROC-AUC Score: 0.894 Average Precision: 0.906 Total-Time: 6\n",
      "Step:  22/200 Loss: 3.90202 ROC-AUC Score: 0.903 Average Precision: 0.915 Total-Time: 7\n",
      "Step:  24/200 Loss: 3.72894 ROC-AUC Score: 0.912 Average Precision: 0.923 Total-Time: 7\n",
      "Step:  26/200 Loss: 3.57543 ROC-AUC Score: 0.918 Average Precision: 0.929 Total-Time: 8\n",
      "Step:  28/200 Loss: 3.44997 ROC-AUC Score: 0.921 Average Precision: 0.932 Total-Time: 9\n",
      "Step:  30/200 Loss: 3.34023 ROC-AUC Score: 0.924 Average Precision: 0.934 Total-Time: 9\n",
      "Step:  32/200 Loss: 3.24786 ROC-AUC Score: 0.927 Average Precision: 0.936 Total-Time: 10\n",
      "Step:  34/200 Loss: 3.16728 ROC-AUC Score: 0.929 Average Precision: 0.937 Total-Time: 11\n",
      "Step:  36/200 Loss: 3.09701 ROC-AUC Score: 0.931 Average Precision: 0.938 Total-Time: 11\n",
      "Step:  38/200 Loss: 3.03648 ROC-AUC Score: 0.932 Average Precision: 0.939 Total-Time: 12\n",
      "Step:  40/200 Loss: 2.98325 ROC-AUC Score: 0.933 Average Precision: 0.940 Total-Time: 13\n",
      "Step:  42/200 Loss: 2.93615 ROC-AUC Score: 0.934 Average Precision: 0.940 Total-Time: 13\n",
      "Step:  44/200 Loss: 2.89422 ROC-AUC Score: 0.935 Average Precision: 0.941 Total-Time: 14\n",
      "Step:  46/200 Loss: 2.85655 ROC-AUC Score: 0.935 Average Precision: 0.941 Total-Time: 15\n",
      "Step:  48/200 Loss: 2.82281 ROC-AUC Score: 0.935 Average Precision: 0.941 Total-Time: 16\n",
      "Step:  50/200 Loss: 2.79224 ROC-AUC Score: 0.935 Average Precision: 0.941 Total-Time: 16\n",
      "Step:  52/200 Loss: 2.76436 ROC-AUC Score: 0.935 Average Precision: 0.940 Total-Time: 17\n",
      "Step:  54/200 Loss: 2.73938 ROC-AUC Score: 0.935 Average Precision: 0.940 Total-Time: 18\n",
      "Step:  56/200 Loss: 2.71629 ROC-AUC Score: 0.936 Average Precision: 0.941 Total-Time: 18\n",
      "Step:  58/200 Loss: 2.69528 ROC-AUC Score: 0.936 Average Precision: 0.941 Total-Time: 19\n",
      "Step:  60/200 Loss: 2.67598 ROC-AUC Score: 0.936 Average Precision: 0.941 Total-Time: 20\n",
      "Step:  62/200 Loss: 2.65795 ROC-AUC Score: 0.937 Average Precision: 0.942 Total-Time: 21\n",
      "Step:  64/200 Loss: 2.64125 ROC-AUC Score: 0.937 Average Precision: 0.942 Total-Time: 21\n",
      "Step:  66/200 Loss: 2.62575 ROC-AUC Score: 0.937 Average Precision: 0.942 Total-Time: 22\n",
      "Step:  68/200 Loss: 2.61132 ROC-AUC Score: 0.937 Average Precision: 0.942 Total-Time: 23\n",
      "Step:  70/200 Loss: 2.59779 ROC-AUC Score: 0.937 Average Precision: 0.941 Total-Time: 24\n",
      "Step:  72/200 Loss: 2.58520 ROC-AUC Score: 0.937 Average Precision: 0.941 Total-Time: 24\n",
      "Step:  74/200 Loss: 2.57337 ROC-AUC Score: 0.937 Average Precision: 0.941 Total-Time: 25\n"
     ]
    }
   ],
   "source": [
    "# train model \n",
    "model.train(steps=200,\n",
    "            optimizer_fn=torch.optim.Adam,\n",
    "            optimizer_args={'lr': 0.1,\n",
    "                            'weight_decay': 1e-6})"
   ]
  },
  {
   "cell_type": "code",
   "execution_count": 10,
   "metadata": {},
   "outputs": [
    {
     "data": {
      "text/plain": [
       "(0.945433759838192, 0.945153138360737)"
      ]
     },
     "execution_count": 10,
     "metadata": {},
     "output_type": "execute_result"
    }
   ],
   "source": [
    "link_prediction_performance(scores_matrix=model._scores_matrix, val_ones=test_ones, val_zeros=test_zeros)"
   ]
  },
  {
   "cell_type": "code",
   "execution_count": null,
   "metadata": {},
   "outputs": [],
   "source": []
  },
  {
   "cell_type": "code",
   "execution_count": null,
   "metadata": {},
   "outputs": [],
   "source": []
  }
 ],
 "metadata": {
  "kernelspec": {
   "display_name": "Python [conda env:netgan] *",
   "language": "python",
   "name": "conda-env-netgan-py"
  },
  "language_info": {
   "codemirror_mode": {
    "name": "ipython",
    "version": 3
   },
   "file_extension": ".py",
   "mimetype": "text/x-python",
   "name": "python",
   "nbconvert_exporter": "python",
   "pygments_lexer": "ipython3",
   "version": "3.6.9"
  }
 },
 "nbformat": 4,
 "nbformat_minor": 2
}
